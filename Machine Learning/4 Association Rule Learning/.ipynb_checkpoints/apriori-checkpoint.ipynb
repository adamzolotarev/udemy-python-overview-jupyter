{
 "cells": [
  {
   "cell_type": "code",
   "execution_count": null,
   "metadata": {},
   "outputs": [],
   "source": [
    "# Apriori\n",
    "\n",
    "# Importing the libraries\n",
    "import numpy as np\n",
    "import matplotlib.pyplot as plt\n",
    "import pandas as pd\n",
    "\n",
    "# Data Preprocessing\n",
    "# First row is all products\n",
    "dataset = pd.read_csv(\n",
    "    '~/Dropbox/github/machine_learning_udemy/machine-learning-udemy/part-5-association-rule-learning/Apriori_Python/Market_Basket_Optimisation.csv', header=None)\n",
    "transactions = []\n",
    "# Needs to be imported in a specific way: list of lists\n",
    "#\n",
    "for i in range(0, 7501):\n",
    "    transactions.append([str(dataset.values[i, j]) for j in range(0, 20)])\n",
    "\n",
    "# Training Apriori on the dataset\n",
    "%run apiory.ipynb\n",
    "from apyori import apriori\n",
    "# support - say bought at least 3-4 times a day-\n",
    "#           (7 times a week over total # of trans's because trans's are per week) 3*7/7500\n",
    "# confidence - e.g., .8 would be too high - you would get only products purchased all the time\n",
    "#\n",
    "rules = apriori(transactions, min_support=0.003,\n",
    "                min_confidence=0.2, min_lift=3, min_length=2)\n",
    "\n",
    "# Visualising the results\n",
    "results = list(rules)\n",
    "# See items, support\n",
    "# OrderedStatistic show confidence, lift\n",
    "# item_base - if people buy item_base they are likely to buy item_add\n",
    "# confidence - .29 means if they buy item_base they have 29% chance of buying item_add\n",
    "# lift shows relevance of the rule\n",
    "# if confidence is high, but lift is low, it probably means both products are just\n",
    "# frequently bought in general, and not necessarily because they relate to each other.\n",
    "print(results)\n"
   ]
  },
  {
   "cell_type": "code",
   "execution_count": null,
   "metadata": {
    "collapsed": true
   },
   "outputs": [],
   "source": []
  }
 ],
 "metadata": {
  "kernelspec": {
   "display_name": "Python 3",
   "language": "python",
   "name": "python3"
  },
  "language_info": {
   "codemirror_mode": {
    "name": "ipython",
    "version": 3
   },
   "file_extension": ".py",
   "mimetype": "text/x-python",
   "name": "python",
   "nbconvert_exporter": "python",
   "pygments_lexer": "ipython3",
   "version": "3.6.3"
  }
 },
 "nbformat": 4,
 "nbformat_minor": 2
}
